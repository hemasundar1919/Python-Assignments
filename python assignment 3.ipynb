{
 "cells": [
  {
   "cell_type": "markdown",
   "id": "d87b25e7",
   "metadata": {},
   "source": [
    "1.It helps to divide the large programs in to small groups so that we can read the code, and debug the program faster and better.\n",
    "it stop us from writing the same logic various times.\n",
    "many persons can work on the same program by assigning different functions to each of them."
   ]
  },
  {
   "cell_type": "markdown",
   "id": "e8c777b8",
   "metadata": {},
   "source": [
    "2.The block of code in a function only runs when it is called. python functions return a value using a return statement, if one is specified. A function can be be called anywhere after the function has been declared. By itself, a function does nothing."
   ]
  },
  {
   "cell_type": "markdown",
   "id": "dac61584",
   "metadata": {},
   "source": [
    "3.To create function def keyword is use in python. Define a unique name for the function and in paranthesis, parameters can be specified.\n",
    "syntax\n",
    "def function-name(parameter):\n"
   ]
  },
  {
   "cell_type": "markdown",
   "id": "1145ac69",
   "metadata": {},
   "source": [
    "4.A function is procedure to achieve a particular result while function call is using this function to achieve that task."
   ]
  },
  {
   "cell_type": "markdown",
   "id": "5da13467",
   "metadata": {},
   "source": [
    "5.Variables created outside the function are called global variables. Anyone can access the global variable, both inside and outside of a function.\n",
    "\n",
    "The variable defined inside the function is called the local variable. we can access the local variable only inside the function."
   ]
  },
  {
   "cell_type": "markdown",
   "id": "01f2c3fd",
   "metadata": {},
   "source": [
    "6.when the function call returns the variables in a local scope is destroyed and these variables are forgetten."
   ]
  },
  {
   "cell_type": "markdown",
   "id": "aca4ef60",
   "metadata": {},
   "source": [
    "7.A python return statement is a special statement that you can use inside a function or method to send the functions result back to the caller. A return statement consists of the return keyword followed by an optional return value. the return value of a python function can be any python object.\n",
    "\n",
    "python first evaluates the expression and then returns the result of the evaluation. A python function will always have a return value."
   ]
  },
  {
   "cell_type": "markdown",
   "id": "7e2b7a94",
   "metadata": {},
   "source": [
    "8.it return None, in an if/then conditional statement, none evaluates to false."
   ]
  },
  {
   "cell_type": "markdown",
   "id": "ac44a333",
   "metadata": {},
   "source": [
    "9.Global keyword can be used to declare the variables are global."
   ]
  },
  {
   "cell_type": "markdown",
   "id": "030df8a7",
   "metadata": {},
   "source": [
    "10.None keyword is an object and is data type of none type class. None datatype doesnt contain any value. None keyword is used to define a null variable or object."
   ]
  },
  {
   "cell_type": "markdown",
   "id": "b1b31933",
   "metadata": {},
   "source": [
    "11.The import statement imports a module named areallyourpetsnamederic."
   ]
  },
  {
   "cell_type": "markdown",
   "id": "14a26d15",
   "metadata": {},
   "source": [
    "12.spam.bacon()"
   ]
  },
  {
   "cell_type": "markdown",
   "id": "2eb9adf0",
   "metadata": {},
   "source": [
    "13.Errors in the code can be handled effectively using try and except statements to avoid the entire program crash, when python encounters an error it produces the traceback."
   ]
  },
  {
   "cell_type": "markdown",
   "id": "41f5b39a",
   "metadata": {},
   "source": [
    "14.Try and except clauses are used to tell python to try running something we except to work, but if an error is produced do whatever is specified with in the except clause."
   ]
  }
 ],
 "metadata": {
  "kernelspec": {
   "display_name": "Python 3 (ipykernel)",
   "language": "python",
   "name": "python3"
  },
  "language_info": {
   "codemirror_mode": {
    "name": "ipython",
    "version": 3
   },
   "file_extension": ".py",
   "mimetype": "text/x-python",
   "name": "python",
   "nbconvert_exporter": "python",
   "pygments_lexer": "ipython3",
   "version": "3.9.7"
  }
 },
 "nbformat": 4,
 "nbformat_minor": 5
}

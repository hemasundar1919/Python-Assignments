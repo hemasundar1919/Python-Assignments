{
 "cells": [
  {
   "cell_type": "markdown",
   "id": "67bd2ba1",
   "metadata": {},
   "source": [
    "1. values: 'helo', 6, -87.8\n",
    "   expressions :*,-,+,/"
   ]
  },
  {
   "cell_type": "markdown",
   "id": "c15c8633",
   "metadata": {},
   "source": [
    "2. String: it is one of the datatype it consist of any value or text represented in single or double quotes.\n",
    "    example: \"heman\"\n",
    "   variable: any text or character which will be assigned with different datatypes\n",
    "    example: h = \"hema\" i.e here h is the variable and \"heman\" is the string datatype"
   ]
  },
  {
   "cell_type": "markdown",
   "id": "d01fe466",
   "metadata": {},
   "source": [
    "3. Integer: any number which does not have fractions eg: 22,222\n",
    "   String: any value or text represented in single or double quotes eg:\"22\", \"heman\"\n",
    "   List: it is a set of elements which may or maynot be the same data types. eg: [\"hema\", \"22\"]"
   ]
  },
  {
   "cell_type": "markdown",
   "id": "8751f496",
   "metadata": {},
   "source": [
    "4. Expression made up of any sequence of literals like strings, numbers, tuples, operators etc.., expressions can print statements, make mathematical operations, boolean operations etc...,"
   ]
  },
  {
   "cell_type": "markdown",
   "id": "06768737",
   "metadata": {},
   "source": [
    "5. the = operator doing assignment operation represents expression and the whole line of expression itself in the python represents statement."
   ]
  },
  {
   "cell_type": "code",
   "execution_count": 1,
   "id": "7983cf2d",
   "metadata": {},
   "outputs": [
    {
     "data": {
      "text/plain": [
       "23"
      ]
     },
     "execution_count": 1,
     "metadata": {},
     "output_type": "execute_result"
    }
   ],
   "source": [
    "bacon = 22\n",
    "bacon+1"
   ]
  },
  {
   "cell_type": "code",
   "execution_count": 2,
   "id": "92e12ad1",
   "metadata": {},
   "outputs": [
    {
     "data": {
      "text/plain": [
       "'spamspamspam'"
      ]
     },
     "execution_count": 2,
     "metadata": {},
     "output_type": "execute_result"
    }
   ],
   "source": [
    "\"spam\" + \"spamspam\"\n",
    "\"spam\"*3"
   ]
  },
  {
   "cell_type": "markdown",
   "id": "89878e28",
   "metadata": {},
   "source": [
    "8. since 100 is a literal having constant value it is invalid to be a variable name, on the other hand egg is a simple text or character it is valid to be a variable name."
   ]
  },
  {
   "cell_type": "markdown",
   "id": "6e9cd18a",
   "metadata": {},
   "source": [
    "9. int()\n",
    "   float()\n",
    "   str()"
   ]
  },
  {
   "cell_type": "markdown",
   "id": "3878464c",
   "metadata": {},
   "source": [
    "10. 'I have eaten' + 99 + 'burritos'\n",
    "    it is not possible to concatinate different datatypes, we can fix it by converting 99 in to string type."
   ]
  }
 ],
 "metadata": {
  "kernelspec": {
   "display_name": "Python 3 (ipykernel)",
   "language": "python",
   "name": "python3"
  },
  "language_info": {
   "codemirror_mode": {
    "name": "ipython",
    "version": 3
   },
   "file_extension": ".py",
   "mimetype": "text/x-python",
   "name": "python",
   "nbconvert_exporter": "python",
   "pygments_lexer": "ipython3",
   "version": "3.9.7"
  }
 },
 "nbformat": 4,
 "nbformat_minor": 5
}

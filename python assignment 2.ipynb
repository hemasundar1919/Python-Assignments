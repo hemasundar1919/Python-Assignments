{
 "cells": [
  {
   "cell_type": "markdown",
   "id": "dcd3bc6c",
   "metadata": {},
   "source": [
    "1.The two values of the boolean datatype are TRUE, FALSE. \n",
    "  Boolean operators can be written along with the boolean operators like and, or, not"
   ]
  },
  {
   "cell_type": "markdown",
   "id": "0c1b11a0",
   "metadata": {},
   "source": [
    "2.And, or, not"
   ]
  },
  {
   "cell_type": "markdown",
   "id": "a3b77d52",
   "metadata": {},
   "source": [
    "3.A        B     A and B\n",
    "  TRUE    TRUE     TRUE\n",
    "  TRUE    FALSE    FALSE\n",
    "  FALSE   TRUE     FALSE\n",
    "  FALSE   FALSE    FALSE\n",
    "  \n",
    "  A        B      A  or B\n",
    "  TRUE    TRUE     TRUE\n",
    "  TRUE    FALSE    TRUE\n",
    "  FALSE   TRUE     TRUE\n",
    "  FLASE   FALSE    FALSE\n",
    "  \n",
    "  A       NOT A\n",
    "  TRUE    FALSE\n",
    "  FLASE   TRUE"
   ]
  },
  {
   "cell_type": "markdown",
   "id": "c179307a",
   "metadata": {},
   "source": [
    "4.FALSE\n",
    "\n",
    "  FALSE\n",
    "  \n",
    "  TRUE\n",
    "  \n",
    "  FALSE\n",
    "  \n",
    "  Error statement\n",
    "  \n",
    "  TRUE\n",
    "  "
   ]
  },
  {
   "cell_type": "markdown",
   "id": "9ae39537",
   "metadata": {},
   "source": [
    "5.==\n",
    "\n",
    "  !=\n",
    "  \n",
    "  <>\n",
    "  \n",
    "  >=\n",
    "  \n",
    "  <=\n",
    "  \n",
    "  <\n",
    "  \n",
    "  >"
   ]
  },
  {
   "cell_type": "markdown",
   "id": "536ae8ab",
   "metadata": {},
   "source": [
    "6.An assignment operator is used to assign a value to the variable on the other hand equal to operator is used as a comperator to compare the two variables.\n",
    "\n",
    "  The assignment operation doesnot return to TRUE or FAlSE result but the equal to operation will return true if the operands are equal and viceversa.\n",
    "  \n",
    "  let us take a variable a,\n",
    "  \n",
    "  if we want to assign some value to the variable we have to use assignment operator a=22.\n",
    "  \n",
    "  if we want to compare this variable with any other value or any other variable we need to use this equal to operator a == 22"
   ]
  },
  {
   "cell_type": "markdown",
   "id": "57830cff",
   "metadata": {},
   "source": [
    "7.block 1\n",
    "  print(\"eggs\")\n",
    "  \n",
    "  block 2\n",
    "  print(\"bacon\")\n",
    "  \n",
    "  block3\n",
    "  print(\"ham\")\n",
    "  Print(\"spam\")\n",
    "  print(\"spam\")"
   ]
  },
  {
   "cell_type": "code",
   "execution_count": 20,
   "id": "2b0b2caf",
   "metadata": {},
   "outputs": [
    {
     "name": "stdout",
     "output_type": "stream",
     "text": [
      "enter the value stored0\n",
      "greetings\n"
     ]
    }
   ],
   "source": [
    "#8 question\n",
    "spam = int(input(\"enter the value stored\"))\n",
    "if spam == 1:\n",
    "    print(\"hello\")\n",
    "elif spam == 2:\n",
    "    print(\"howdy\")\n",
    "else:\n",
    "    print(\"greetings\")"
   ]
  },
  {
   "cell_type": "markdown",
   "id": "e9105bea",
   "metadata": {},
   "source": [
    "9.Restart Kernal\n",
    "\n",
    "  Ctrl+C"
   ]
  },
  {
   "cell_type": "markdown",
   "id": "5132a256",
   "metadata": {},
   "source": [
    "10.Break eliminates the remaining iterations of the loop, while Continue eliminate the current iteration of the loop."
   ]
  },
  {
   "cell_type": "markdown",
   "id": "2d435a7a",
   "metadata": {},
   "source": [
    "11.Although range(10), range(0,10), range(0,10,1) returns 0 to 9 values in for loop, the have a significance importance in starting, ending, step size of the range function, the first value represents starting point, second value represents, ending point, 3rd value represents stepsize."
   ]
  },
  {
   "cell_type": "code",
   "execution_count": 26,
   "id": "1c88e365",
   "metadata": {},
   "outputs": [
    {
     "name": "stdout",
     "output_type": "stream",
     "text": [
      "1\n",
      "2\n",
      "3\n",
      "4\n",
      "5\n",
      "6\n",
      "7\n",
      "8\n",
      "9\n",
      "10\n"
     ]
    }
   ],
   "source": [
    "# 12 question for loop\n",
    "for i in  range(1,11):\n",
    "    print(i)"
   ]
  },
  {
   "cell_type": "code",
   "execution_count": 1,
   "id": "591b1f70",
   "metadata": {},
   "outputs": [
    {
     "name": "stdout",
     "output_type": "stream",
     "text": [
      "1\n",
      "2\n",
      "3\n",
      "4\n",
      "5\n",
      "6\n",
      "7\n",
      "8\n",
      "9\n",
      "10\n"
     ]
    }
   ],
   "source": [
    "#12 question while loop\n",
    "i = 1\n",
    "while i <=10:\n",
    "    print(i)\n",
    "    i = i+1"
   ]
  },
  {
   "cell_type": "markdown",
   "id": "c9e88058",
   "metadata": {},
   "source": [
    "13.After importing a module, to call each function in that module we can use dot notation, the module name followed by a dot then the name of the function.\n",
    "\n",
    "  in this case spam is the module and bacon() is the function, the function in the module can be called as follows\n",
    "  spam.bacon()"
   ]
  }
 ],
 "metadata": {
  "kernelspec": {
   "display_name": "Python 3 (ipykernel)",
   "language": "python",
   "name": "python3"
  },
  "language_info": {
   "codemirror_mode": {
    "name": "ipython",
    "version": 3
   },
   "file_extension": ".py",
   "mimetype": "text/x-python",
   "name": "python",
   "nbconvert_exporter": "python",
   "pygments_lexer": "ipython3",
   "version": "3.9.7"
  }
 },
 "nbformat": 4,
 "nbformat_minor": 5
}
